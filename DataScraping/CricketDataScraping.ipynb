{
 "cells": [
  {
   "cell_type": "markdown",
   "id": "55beca50",
   "metadata": {},
   "source": [
    "Scraping Cricket Data from the Internet"
   ]
  },
  {
   "cell_type": "code",
   "execution_count": null,
   "id": "14f518c7",
   "metadata": {},
   "outputs": [],
   "source": [
    "import json\n",
    "import os\n",
    "\n",
    "from tqdm import tqdm\n",
    "from bs4 import BeautifulSoup\n",
    "import requests\n",
    "\n",
    "\n",
    "class SearchBox:\n",
    "    URL = \"http://www.howstat.com/cricket/Statistics/Players/PlayerMenu.asp\"\n",
    "\n",
    "    def __init__(self) -> None:\n",
    "        pass\n",
    "\n",
    "    def search(self, name):\n",
    "        response = requests.post(\n",
    "            self.URL, {\"txtPlayer\": name, \"txtAction\": \"FindPlayer\"},\n",
    "        )\n",
    "        soup = BeautifulSoup(response.text, \"html.parser\")\n",
    "\n",
    "        tbl = soup.find(\"table\", {\"class\": \"TableLined\"})\n",
    "        if tbl is None:\n",
    "            return []\n",
    "        else:\n",
    "            results = tbl.find_all(\"a\", {\"class\": \"LinkNormal\"})\n",
    "            links = [r.get(\"href\") for r in results]\n",
    "\n",
    "            return links\n",
    "\n",
    "\n",
    "with open(\"players.json\", \"r\") as f:\n",
    "    PLAYERS = json.load(f)\n",
    "\n",
    "engine = SearchBox()\n",
    "\n",
    "match_zero = {}\n",
    "match_one = {}\n",
    "match_many = {}\n",
    "\n",
    "pbar = tqdm(PLAYERS)\n",
    "for player in pbar:\n",
    "    pbar.set_description(player)\n",
    "\n",
    "    results = engine.search(player)\n",
    "\n",
    "    if len(results) == 0:\n",
    "        match_zero[player] = {}\n",
    "    elif len(results) >= 2:\n",
    "        match_many[player] = results\n",
    "    else:\n",
    "        playerid = int(results[0].split(\"=\")[1])\n",
    "        match_one[player] = playerid\n",
    "\n",
    "print()\n",
    "print(\"ZERO MATCHES:\", len(match_zero))\n",
    "print(\"ONE MATCH:\", len(match_one))\n",
    "print(\"MANY MATCHES:\", len(match_many))\n",
    "print()\n",
    "\n",
    "os.makedirs(\"results\", exist_ok=True)\n",
    "\n",
    "with open(\"results/zero.json\", \"w\") as f:\n",
    "    json.dump(match_zero, f, indent=2)\n",
    "with open(\"results/one.json\", \"w\") as f:\n",
    "    json.dump(match_one, f, indent=2)\n",
    "with open(\"results/many.json\", \"w\") as f:\n",
    "    json.dump(match_many, f, indent=2)"
   ]
  }
 ],
 "metadata": {
  "kernelspec": {
   "display_name": "Python 3",
   "language": "python",
   "name": "python3"
  },
  "language_info": {
   "codemirror_mode": {
    "name": "ipython",
    "version": 3
   },
   "file_extension": ".py",
   "mimetype": "text/x-python",
   "name": "python",
   "nbconvert_exporter": "python",
   "pygments_lexer": "ipython3",
   "version": "3.8.8"
  }
 },
 "nbformat": 4,
 "nbformat_minor": 5
}
