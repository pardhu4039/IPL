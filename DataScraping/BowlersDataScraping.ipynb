{
 "cells": [
  {
   "cell_type": "markdown",
   "id": "5e5b92b4",
   "metadata": {},
   "source": [
    "Scraping Bowlers Data from the Internet\n"
   ]
  },
  {
   "cell_type": "code",
   "execution_count": null,
   "id": "47bd4da8",
   "metadata": {},
   "outputs": [],
   "source": [
    "import json\n",
    "import os\n",
    "\n",
    "from tqdm import tqdm\n",
    "from bs4 import BeautifulSoup\n",
    "import requests\n",
    "\n",
    "SEARCH_URL = \"http://www.howstat.com/cricket/Statistics/IPL/PlayerOverview.asp?PlayerID={playerid}\"\n",
    "\n",
    "\n",
    "def search(playerid):\n",
    "    response = requests.get(SEARCH_URL.format(playerid=playerid))\n",
    "    soup = BeautifulSoup(response.text.replace(\"&nbsp;\", \"\"), \"html.parser\")\n",
    "\n",
    "    try:\n",
    "        batting_type = soup.find(\"td\", string=\"Bats:\").next_sibling.next_sibling.string\n",
    "        bowling_type = soup.find(\"td\", string=\"Bowls:\").next_sibling.next_sibling.string\n",
    "    except AttributeError:\n",
    "        return {\n",
    "            \"bats\": None,\n",
    "            \"bowls\": None,\n",
    "        }\n",
    "    else:\n",
    "        return {\n",
    "            \"bats\": batting_type.strip(),\n",
    "            \"bowls\": bowling_type.strip(),\n",
    "        }\n",
    "\n",
    "with open(\"player_id_map.json\", \"r\") as f:\n",
    "    playerids = json.load(f)\n",
    "\n",
    "info = {}\n",
    "for name, id in tqdm(playerids.items()):\n",
    "    info[name] = search(id)\n",
    "\n",
    "with open(\"player_info.json\", \"w\") as f:\n",
    "    json.dump(info, f, indent=2)\n"
   ]
  }
 ],
 "metadata": {
  "kernelspec": {
   "display_name": "Python 3",
   "language": "python",
   "name": "python3"
  },
  "language_info": {
   "codemirror_mode": {
    "name": "ipython",
    "version": 3
   },
   "file_extension": ".py",
   "mimetype": "text/x-python",
   "name": "python",
   "nbconvert_exporter": "python",
   "pygments_lexer": "ipython3",
   "version": "3.8.8"
  }
 },
 "nbformat": 4,
 "nbformat_minor": 5
}
